{
 "cells": [
  {
   "cell_type": "code",
   "execution_count": null,
   "id": "c684276a",
   "metadata": {},
   "outputs": [],
   "source": [
    "from huggingface_hub import notebook_login\n",
    "\n",
    "notebook_login()"
   ]
  },
  {
   "attachments": {},
   "cell_type": "markdown",
   "id": "dd72e655",
   "metadata": {},
   "source": [
    "Load Dataset"
   ]
  },
  {
   "cell_type": "code",
   "execution_count": null,
   "id": "1d0f1fd7",
   "metadata": {},
   "outputs": [],
   "source": [
    "#Test Datasets\n",
    "from datasets import load_dataset\n",
    "dataset_test = load_dataset('audiofolder', data_dir='E:/HuggingFace/Test/')\n",
    "print(dataset_test)"
   ]
  },
  {
   "cell_type": "code",
   "execution_count": null,
   "metadata": {},
   "outputs": [],
   "source": [
    "#Load Datasets\n",
    "from datasets import load_dataset\n",
    "dataset_custom = load_dataset('trueorfalse441/Korean_Speech_BigDB')\n",
    "#dataset_custom = load_dataset(\"audiofolder\", data_dir=\"E:/HuggingFace/datasets\", cache_dir=\"D:/.cache/datasets/\")\n",
    "dataset_zeroth = load_dataset(\"Bingsu/zeroth-korean\")\n",
    "dataset_fleurs = load_dataset('google/fleurs', 'ko_kr')"
   ]
  },
  {
   "cell_type": "code",
   "execution_count": null,
   "id": "a45b5824",
   "metadata": {},
   "outputs": [],
   "source": [
    "dataset_custom.push_to_hub(\"trueorfalse441/Korean_Speech_BigDB\")"
   ]
  },
  {
   "cell_type": "code",
   "execution_count": null,
   "id": "61a02a44",
   "metadata": {},
   "outputs": [],
   "source": [
    "print(dataset_custom)\n",
    "print(dataset_zeroth)\n",
    "print(dataset_fleurs)"
   ]
  },
  {
   "attachments": {},
   "cell_type": "markdown",
   "id": "c23972b3",
   "metadata": {},
   "source": [
    "PreProcessing Datasets"
   ]
  },
  {
   "cell_type": "code",
   "execution_count": null,
   "id": "163800fb",
   "metadata": {},
   "outputs": [],
   "source": [
    "dataset_fleurs = dataset_fleurs.rename_column('transcription', 'text')\n",
    "dataset_custom = dataset_custom.rename_column(\"transcription\", 'text')\n",
    "\n",
    "use_cols=['audio', 'text']\n",
    "dataset_fleurs = dataset_fleurs.remove_columns([col for col in dataset_fleurs.column_names['train'] if col not in use_cols])\n"
   ]
  },
  {
   "cell_type": "code",
   "execution_count": null,
   "id": "81bca5e1",
   "metadata": {},
   "outputs": [],
   "source": [
    "print(dataset_custom)\n",
    "print(dataset_zeroth)\n",
    "print(dataset_fleurs)"
   ]
  },
  {
   "cell_type": "code",
   "execution_count": null,
   "id": "3f859919",
   "metadata": {},
   "outputs": [],
   "source": [
    "# dataset_custom['train'] =  dataset_custom[\"train\"].shuffle(seed=42).select(range(500000))\n",
    "dataset_custom=dataset_custom['train'].train_test_split(test_size=0.01, shuffle=True)"
   ]
  },
  {
   "cell_type": "code",
   "execution_count": null,
   "id": "2ceb971f",
   "metadata": {},
   "outputs": [],
   "source": [
    "from datasets import DatasetDict, IterableDatasetDict\n",
    "from datasets import concatenate_datasets\n",
    "from datasets import interleave_datasets\n",
    "from datasets import Audio\n",
    "\n",
    "dataset_fleurs = dataset_fleurs.cast_column(\"audio\", Audio(sampling_rate=16000))\n",
    "dataset_custom = dataset_custom.cast_column(\"audio\", Audio(sampling_rate=16000))\n",
    "dataset_zeroth = dataset_zeroth.cast_column(\"audio\", Audio(sampling_rate=16000))\n",
    "\n",
    "data_dict = DatasetDict()\n",
    "\n",
    "data_dict[\"train\"] = concatenate_datasets(\n",
    "    [\n",
    "        dataset_fleurs['train'],\n",
    "        dataset_zeroth['train'],\n",
    "        dataset_custom['train'],\n",
    "    ],\n",
    ")\n",
    "\n",
    "data_dict[\"test\"] = concatenate_datasets(\n",
    "    [\n",
    "        dataset_fleurs['test'],\n",
    "        dataset_fleurs['validation'],\n",
    "        dataset_zeroth['test'],\n",
    "        dataset_custom['test'],\n",
    "    ],\n",
    ")\n",
    "\n"
   ]
  },
  {
   "cell_type": "code",
   "execution_count": null,
   "id": "f42ef4a0",
   "metadata": {},
   "outputs": [],
   "source": [
    "data_dict = DatasetDict(data_dict)\n",
    "data_dict.column_names\n",
    "print(dataset_custom)\n",
    "print(data_dict)"
   ]
  },
  {
   "cell_type": "code",
   "execution_count": null,
   "id": "514664a1",
   "metadata": {},
   "outputs": [],
   "source": [
    "#Load FreatureExtractor\n",
    "from transformers import WhisperFeatureExtractor\n",
    "#Load WhisperTokenizer\n",
    "from transformers import WhisperTokenizer\n",
    "\n",
    "feature_extractor = WhisperFeatureExtractor.from_pretrained(\"openai/whisper-large\")\n",
    "tokenizer = WhisperTokenizer.from_pretrained(\"openai/whisper-large\", language=\"Korean\", task=\"transcribe\")"
   ]
  },
  {
   "cell_type": "code",
   "execution_count": null,
   "id": "930a5142",
   "metadata": {},
   "outputs": [],
   "source": [
    "dataset_custom['train'][0]['audio']\n",
    "dataset_custom"
   ]
  },
  {
   "cell_type": "code",
   "execution_count": null,
   "id": "9399bc3a",
   "metadata": {},
   "outputs": [],
   "source": [
    "#Prepare Dataset\n",
    "def prepare_dataset(batch, feature_extractor=feature_extractor, tokenizer=tokenizer) :\n",
    "    # load and resample audio data from 48 to 16kHz\n",
    "    audio = batch[\"audio\"]\n",
    "\n",
    "    # compute log-Mel input features from input audio array \n",
    "    batch[\"input_features\"] = feature_extractor(audio[\"array\"], sampling_rate=audio[\"sampling_rate\"]).input_features[0]\n",
    "\n",
    "    # encode target text to label ids \n",
    "    batch[\"labels\"] = tokenizer(batch[\"text\"]).input_ids\n",
    "    return batch\n",
    "\n",
    "#Verify Tokenizer\n",
    "input_str = data_dict['train'][0]['text']\n",
    "labels = tokenizer(input_str).input_ids\n",
    "decoded_with_special = tokenizer.decode(labels, skip_special_tokens=False)\n",
    "decoded_str = tokenizer.decode(labels, skip_special_tokens=True)\n",
    "\n",
    "print(f\"Input:                 {input_str}\")\n",
    "print(f\"Decoded w/ special:    {decoded_with_special}\")\n",
    "print(f\"Decoded w/out special: {decoded_str}\")\n",
    "print(f\"Are equal:             {input_str == decoded_str}\")\n",
    "\n",
    "#Combine To Create A WhisperProcessor\n",
    "from transformers import WhisperProcessor\n",
    "processor = WhisperProcessor.from_pretrained(\"openai/whisper-large\", language=\"Korean\", task=\"transcribe\")\n",
    "\n",
    "#ReSampling\n",
    "from datasets import Audio\n",
    "import multiprocessing\n",
    "dataset = data_dict.cast_column(\"audio\", Audio(sampling_rate=16000))\n",
    "\n",
    "dataset = dataset.map(prepare_dataset, \n",
    "                            remove_columns=dataset.column_names[\"train\"], num_proc=6,\n",
    "                            writer_batch_size=6000,\n",
    "                            fn_kwargs={\"feature_extractor\": feature_extractor, \"tokenizer\": tokenizer},\n",
    "                            \n",
    "                            #batch_size=100000,                                                                                                                               #batched=True,\n",
    "                            )"
   ]
  },
  {
   "cell_type": "code",
   "execution_count": null,
   "id": "f04de1ed",
   "metadata": {},
   "outputs": [],
   "source": [
    "import torch\n",
    "print(torch.__version__)\n",
    "print(torch.cuda.is_available())"
   ]
  },
  {
   "cell_type": "code",
   "execution_count": null,
   "id": "ae00ce68",
   "metadata": {},
   "outputs": [],
   "source": [
    "dataset"
   ]
  },
  {
   "cell_type": "code",
   "execution_count": null,
   "id": "33b33085",
   "metadata": {},
   "outputs": [],
   "source": [
    "dataset.save_to_disk('whisper-1000')"
   ]
  },
  {
   "cell_type": "code",
   "execution_count": null,
   "id": "2c0f2d69",
   "metadata": {},
   "outputs": [],
   "source": [
    "from datasets import load_from_disk\n",
    "dataset_test2 = load_from_disk('whisper-1000')"
   ]
  },
  {
   "cell_type": "code",
   "execution_count": null,
   "id": "f7e7fa7a",
   "metadata": {},
   "outputs": [],
   "source": [
    "dataset_test2\n",
    "\n",
    "#Load FreatureExtractor\n",
    "from transformers import WhisperFeatureExtractor\n",
    "#Load WhisperTokenizer\n",
    "from transformers import WhisperTokenizer\n",
    "\n",
    "feature_extractor = WhisperFeatureExtractor.from_pretrained(\"openai/whisper-large\")\n",
    "tokenizer = WhisperTokenizer.from_pretrained(\"openai/whisper-large\", language=\"Korean\", task=\"transcribe\")\n",
    "\n",
    "#Combine To Create A WhisperProcessor\n",
    "from transformers import WhisperProcessor\n",
    "processor = WhisperProcessor.from_pretrained(\"openai/whisper-large\", language=\"Korean\", task=\"transcribe\")\n",
    "\n",
    "dataset=dataset_test2\n",
    "\n",
    "import os\n",
    "os.environ['CUDA_LAUNCH_BLOCKING'] = '1'"
   ]
  },
  {
   "cell_type": "code",
   "execution_count": null,
   "id": "0fce7eba",
   "metadata": {},
   "outputs": [],
   "source": [
    "import torch\n",
    "from dataclasses import dataclass\n",
    "from typing import Any, Dict, List, Union\n",
    "\n",
    "@dataclass\n",
    "class DataCollatorSpeechSeq2SeqWithPadding:\n",
    "    processor: Any\n",
    "\n",
    "    def __call__(self, features: List[Dict[str, Union[List[int], torch.Tensor]]]) -> Dict[str, torch.Tensor]:\n",
    "        # split inputs and labels since they have to be of different lengths and need different padding methods\n",
    "        # first treat the audio inputs by simply returning torch tensors\n",
    "        input_features = [{\"input_features\": feature[\"input_features\"]} for feature in features]\n",
    "        batch = self.processor.feature_extractor.pad(input_features, return_tensors=\"pt\")\n",
    "\n",
    "        # get the tokenized label sequences\n",
    "        label_features = [{\"input_ids\": feature[\"labels\"]} for feature in features]\n",
    "        # pad the labels to max length\n",
    "        labels_batch = self.processor.tokenizer.pad(label_features, return_tensors=\"pt\")\n",
    "\n",
    "        # replace padding with -100 to ignore loss correctly\n",
    "        labels = labels_batch[\"input_ids\"].masked_fill(labels_batch.attention_mask.ne(1), -100)\n",
    "\n",
    "        # if bos token is appended in previous tokenization step,\n",
    "        # cut bos token here as it's append later anyways\n",
    "        if (labels[:, 0] == self.processor.tokenizer.bos_token_id).all().cpu().item():\n",
    "            labels = labels[:, 1:]\n",
    "\n",
    "        batch[\"labels\"] = labels\n",
    "\n",
    "        return batch\n",
    "\n",
    "data_collator = DataCollatorSpeechSeq2SeqWithPadding(processor=processor)\n",
    "\n",
    "import evaluate\n",
    "metric = evaluate.load(\"wer\")\n",
    "\n",
    "def compute_metrics(pred):\n",
    "    pred_ids = pred.predictions\n",
    "    label_ids = pred.label_ids\n",
    "\n",
    "    # replace -100 with the pad_token_id\n",
    "    label_ids[label_ids == -100] = tokenizer.pad_token_id\n",
    "\n",
    "    # we do not want to group tokens when computing the metrics\n",
    "    pred_str = tokenizer.batch_decode(pred_ids, skip_special_tokens=True)\n",
    "    label_str = tokenizer.batch_decode(label_ids, skip_special_tokens=True)\n",
    "\n",
    "    wer = 100 * metric.compute(predictions=pred_str, references=label_str)\n",
    "\n",
    "    return {\"wer\": wer}\n",
    "\n",
    "#Load a Pre-Trained Checkpoint\n",
    "from transformers import WhisperForConditionalGeneration\n",
    "\n",
    "model = WhisperForConditionalGeneration.from_pretrained(\"openai/whisper-large\")\n",
    "\n",
    "model.config.forced_decoder_ids = None\n",
    "model.config.suppress_tokens = []\n",
    "\n",
    "from transformers import Seq2SeqTrainingArguments\n",
    "\n",
    "training_args = Seq2SeqTrainingArguments(\n",
    "    output_dir=\"./whisper-large-ko-custom-1000h\",  # change to a repo name of your choice\n",
    "    per_device_train_batch_size=4,\n",
    "    gradient_accumulation_steps=2,  # increase by 2x for every 2x decrease in batch size\n",
    "    learning_rate=1e-5,\n",
    "    warmup_steps=100,\n",
    "    max_steps=1500,\n",
    "    gradient_checkpointing=True,\n",
    "    #fp16=True,\n",
    "    evaluation_strategy=\"steps\",\n",
    "    per_device_eval_batch_size=4,\n",
    "    predict_with_generate=True,\n",
    "    generation_max_length=225,\n",
    "    save_steps=100,\n",
    "    eval_steps=100,\n",
    "    logging_steps=25,\n",
    "    report_to=[\"tensorboard\"],\n",
    "    load_best_model_at_end=True,\n",
    "    metric_for_best_model=\"wer\",\n",
    "    greater_is_better=False,\n",
    "    push_to_hub=True,\n",
    ")\n",
    "\n",
    "#Train\n",
    "\n",
    "from transformers import Seq2SeqTrainer\n",
    "\n",
    "trainer = Seq2SeqTrainer(\n",
    "    args=training_args,\n",
    "    model=model,\n",
    "    train_dataset=dataset[\"train\"],\n",
    "    eval_dataset=dataset[\"test\"],\n",
    "    data_collator=data_collator,\n",
    "    compute_metrics=compute_metrics,\n",
    "    tokenizer=processor.feature_extractor,\n",
    ")\n",
    "\n",
    "trainer.train()"
   ]
  },
  {
   "attachments": {},
   "cell_type": "markdown",
   "id": "2c5f67f6",
   "metadata": {},
   "source": [
    "Push To hub"
   ]
  },
  {
   "cell_type": "code",
   "execution_count": null,
   "id": "ba709787",
   "metadata": {},
   "outputs": [],
   "source": [
    "kwargs = {\n",
    "    \"dataset_tags\": \"ko-speech\",\n",
    "    \"dataset\": \"Speech Text\",  # a 'pretty' name for the training dataset\n",
    "    \"dataset_args\": \"config: ko, split: test\",\n",
    "    \"language\": \"ko\",\n",
    "    \"model_name\": \"Whisper large KR\",  # a 'pretty' name for your model\n",
    "    \"finetuned_from\": \"openai/whisper-large\",\n",
    "    \"tasks\": \"automatic-speech-recognition\",\n",
    "    \"tags\": \"hf-asr-leaderboard\",\n",
    "}\n",
    "trainer.push_to_hub(kwargs)"
   ]
  },
  {
   "cell_type": "code",
   "execution_count": null,
   "id": "d04f013a",
   "metadata": {},
   "outputs": [],
   "source": [
    "#reset gpu memory\n",
    "from numba import cuda\n",
    "device = cuda.get_current_device()\n",
    "device.reset()"
   ]
  }
 ],
 "metadata": {
  "kernelspec": {
   "display_name": "Python 3",
   "language": "python",
   "name": "python3"
  },
  "language_info": {
   "codemirror_mode": {
    "name": "ipython",
    "version": 3
   },
   "file_extension": ".py",
   "mimetype": "text/x-python",
   "name": "python",
   "nbconvert_exporter": "python",
   "pygments_lexer": "ipython3",
   "version": "3.10.0"
  },
  "vscode": {
   "interpreter": {
    "hash": "c261aea317cc0286b3b3261fbba9abdec21eaa57589985bb7a274bf54d6cc0a7"
   }
  }
 },
 "nbformat": 4,
 "nbformat_minor": 5
}
